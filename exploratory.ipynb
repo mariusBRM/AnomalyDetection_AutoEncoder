{
 "cells": [
  {
   "cell_type": "code",
   "execution_count": 1,
   "metadata": {},
   "outputs": [
    {
     "name": "stderr",
     "output_type": "stream",
     "text": [
      "c:\\Users\\mariu\\anaconda3\\envs\\comp0197-pt\\lib\\site-packages\\tqdm\\auto.py:22: TqdmWarning: IProgress not found. Please update jupyter and ipywidgets. See https://ipywidgets.readthedocs.io/en/stable/user_install.html\n",
      "  from .autonotebook import tqdm as notebook_tqdm\n"
     ]
    }
   ],
   "source": [
    "import pandas as pd\n",
    "import numpy as np\n",
    "import torch\n",
    "import torch.nn as nn\n",
    "import torch.optim as optim\n",
    "from sklearn.model_selection import train_test_split\n",
    "from sklearn.preprocessing import LabelEncoder\n",
    "from datetime import datetime\n",
    "from torch.utils.data import Dataset, DataLoader\n",
    "from imblearn.combine import SMOTETomek\n",
    "from sklearn.metrics import accuracy_score, f1_score\n",
    "from sklearn.preprocessing import StandardScaler\n",
    "from torcheval.metrics import R2Score"
   ]
  },
  {
   "attachments": {},
   "cell_type": "markdown",
   "metadata": {},
   "source": [
    "<h1>Data Loader + Data preprocessing + Data Augmentation</h1>"
   ]
  },
  {
   "cell_type": "code",
   "execution_count": 2,
   "metadata": {},
   "outputs": [],
   "source": [
    "INPUT_FEATURES = ['category_encoded',\n",
    "                  'amt', \n",
    "                  'gender_encoded', \n",
    "                  'city_encoded', \n",
    "                  'state_encoded', \n",
    "                  'city_pop', \n",
    "                  'job_encoded', \n",
    "                  'age', \n",
    "                  'hour', \n",
    "                  'daily', \n",
    "                  'day', \n",
    "                  'month']\n",
    "OUTPUT_FEATURE = ['is_fraud']\n",
    "\n",
    "def preprocessing(df):\n",
    "    # remove duplicates\n",
    "    df.drop_duplicates(inplace=True)\n",
    "    # drop nA rows containing values\n",
    "    df.dropna(axis=0)\n",
    "    # drop the 'Unnamed: 0'\n",
    "    df = df.drop('Unnamed: 0', axis=1)\n",
    "    # change the type of date time\n",
    "    df['age'] = df['dob'].apply(lambda x: datetime.now().year - datetime.strptime(x, '%Y-%m-%d').year)\n",
    "    df['trans_datetime'] = pd.to_datetime(df['trans_date_trans_time'])\n",
    "    df['hour'] = df['trans_datetime'].dt.hour\n",
    "    df['daily'] = df['trans_datetime'].dt.day\n",
    "    df['day'] = df['trans_datetime'].dt.dayofweek\n",
    "    df['month'] = df['trans_datetime'].dt.month\n",
    "    df.drop('trans_date_trans_time', axis=1, inplace=True)\n",
    "\n",
    "    return df\n",
    "\n",
    "def encoding_columns(df):\n",
    "\n",
    "    labelencoder = LabelEncoder()\n",
    "    df['category_encoded'] = labelencoder.fit_transform(df['category'])\n",
    "    df['gender_encoded'] = labelencoder.fit_transform(df['gender'])\n",
    "    df['city_encoded'] = labelencoder.fit_transform(df['city'])\n",
    "    df['state_encoded'] =labelencoder.fit_transform(df['state'])\n",
    "    df['job_encoded'] = labelencoder.fit_transform(df['job'])\n",
    "\n",
    "    return df\n",
    "\n",
    "def data_augmentation(X,y, sampling_strategy):\n",
    "    smote_tomek = SMOTETomek(random_state=42, sampling_strategy=sampling_strategy)\n",
    "    X_Augmented, y_augmented = smote_tomek.fit_resample(X,y)\n",
    "    return X_Augmented, y_augmented\n",
    "\n",
    "def smoteTomek_augmentation(df, sampling_strategy):\n",
    "    # define the model\n",
    "    smote_tomek = SMOTETomek(random_state=42, sampling_strategy=sampling_strategy)\n",
    "\n",
    "    X_Augmented, y_augmented = smote_tomek.fit_resample(df[INPUT_FEATURES],df[OUTPUT_FEATURE])\n",
    "\n",
    "    new_df = pd.concat([X_Augmented, y_augmented], axis=1)\n",
    "    \n",
    "    return new_df\n",
    "\n",
    "class MapStyleFraudDataset(Dataset):\n",
    "    def __init__(self, X, y):\n",
    "        self.X = X\n",
    "        self.y = y\n",
    "    def __len__(self):\n",
    "        return len(self.X)\n",
    "    def __getitem__(self, index):\n",
    "        return self.X[index], self.y[index]\n",
    "    \n",
    "def dataloading(for_training, input_features, output_feature, sampling_strategy, augmented=False):\n",
    "\n",
    "    if for_training:\n",
    "        df = pd.read_csv('../data/fraudTrain.csv')\n",
    "    else:\n",
    "        df = pd.read_csv('../data/fraudTest.csv')\n",
    "    \n",
    "    df = preprocessing(df)\n",
    "    df = encoding_columns(df)\n",
    "    # Augment the data\n",
    "    if augmented == True:\n",
    "        df = smoteTomek_augmentation(df, sampling_strategy)\n",
    "\n",
    "    if for_training:\n",
    "        # split btwn training data and validation with ratio 90%\n",
    "        df_train, df_val = train_test_split(df, test_size=0.1, random_state=42, stratify=df['is_fraud'])\n",
    "\n",
    "        # scale the data\n",
    "        scaler = StandardScaler()\n",
    "        scaler.fit(df_train[input_features])\n",
    "\n",
    "        df_train[input_features]=scaler.transform(df_train[input_features])\n",
    "        df_val[input_features]=scaler.transform(df_val[input_features])\n",
    "\n",
    "        if augmented==True:\n",
    "            # save augmented data\n",
    "            df_train.to_csv('../data/fraudTrain_Augmented.csv')\n",
    "            df_val.to_csv('../data/fraudVal_Augmented.csv')\n",
    "\n",
    "        # separate Input and Label\n",
    "        X_train = df_train[input_features]\n",
    "        y_train = df_train[output_feature]\n",
    "\n",
    "        X_val = df_val[input_features]\n",
    "        y_val = df_val[output_feature]  \n",
    "\n",
    "        X_train= torch.Tensor(X_train.values)\n",
    "        y_train = torch.Tensor(y_train.values)\n",
    "        X_val= torch.Tensor(X_val.values)\n",
    "        y_val = torch.Tensor(y_val.values)\n",
    "\n",
    "        # change it to Dataloader objects\n",
    "        train_set = MapStyleFraudDataset(X_train,y_train )\n",
    "        val_set = MapStyleFraudDataset(X_val,y_val)\n",
    "\n",
    "        trainloader = DataLoader(train_set, batch_size=64, num_workers=0)\n",
    "        validloader = DataLoader(val_set, batch_size=64, num_workers=0)\n",
    "\n",
    "        return trainloader, validloader\n",
    "\n",
    "    else:\n",
    "\n",
    "        # scale the data\n",
    "        scaler = StandardScaler()\n",
    "        scaler.fit(df[input_features])\n",
    "        df[input_features]=scaler.transform(df[input_features])\n",
    "\n",
    "        X_test = df[input_features]\n",
    "        y_test = df[output_feature]  \n",
    "\n",
    "        X_test= torch.Tensor(X_test.values)\n",
    "        y_test = torch.Tensor(y_test.values)\n",
    "\n",
    "        test_set = MapStyleFraudDataset(X_test,y_test)\n",
    "\n",
    "        testloader = DataLoader(test_set, batch_size=64, num_workers=0)\n",
    "\n",
    "        return testloader"
   ]
  },
  {
   "cell_type": "code",
   "execution_count": 3,
   "metadata": {},
   "outputs": [],
   "source": [
    "trainloader, validloader = dataloading(for_training=True, input_features=INPUT_FEATURES, output_feature=OUTPUT_FEATURE, sampling_strategy=0.3)"
   ]
  },
  {
   "attachments": {},
   "cell_type": "markdown",
   "metadata": {},
   "source": [
    "<h1>Define MLP Binary Classifier + Train</h1>"
   ]
  },
  {
   "cell_type": "code",
   "execution_count": 3,
   "metadata": {},
   "outputs": [],
   "source": [
    "class BinaryMLPClassifier(nn.Module):\n",
    "    def __init__(self, n_inputs):\n",
    "        super(BinaryMLPClassifier, self).__init__()\n",
    "        # First hidden layer\n",
    "        self.hidden1 = nn.Linear(n_inputs, 20)\n",
    "        self.act1 = nn.ReLU()\n",
    "        # Second hidden layer\n",
    "        self.hidden2 = nn.Linear(20, 10)\n",
    "        self.act2 = nn.ReLU()\n",
    "        # Third hidden layer\n",
    "        self.hidden3 = nn.Linear(10,1)\n",
    "        self.act3 = nn.Sigmoid()\n",
    "        \n",
    "    def forward(self, X):\n",
    "        #Input to the first hidden layer\n",
    "        X = self.hidden1(X)\n",
    "        X = self.act1(X)\n",
    "        # Second hidden layer\n",
    "        X = self.hidden2(X)\n",
    "        X = self.act2(X)\n",
    "        # Third hidden layer\n",
    "        X = self.hidden3(X)\n",
    "        X = self.act3(X)\n",
    "        return X\n",
    "\n",
    "# not used here because of bugs\n",
    "def weighted_binary_cross_entropy(output, target, weights=None):\n",
    "        \n",
    "    if weights is not None:\n",
    "        assert len(weights) == 2\n",
    "        \n",
    "        loss = weights[1] * (target * torch.log(output)) + \\\n",
    "               weights[0] * ((1 - target) * torch.log(1 - output))\n",
    "    else:\n",
    "        loss = target * torch.log(output) + (1 - target) * torch.log(1 - output)\n",
    "\n",
    "    return torch.neg(torch.mean(loss))\n",
    "\n",
    "def train_MLP(trainloader, validloader, num_epochs, patience):\n",
    "\n",
    "    model = BinaryMLPClassifier(len(INPUT_FEATURES))\n",
    "    criterion = nn.BCELoss()\n",
    "    optimizer = optim.Adam(model.parameters(), lr=1e-3)\n",
    "    best_val_loss = np.inf\n",
    "    \n",
    "    for epoch in range(num_epochs):\n",
    "        running_loss = 0.0\n",
    "        print(f'Epoch {epoch+1}')\n",
    "        model.train()\n",
    "        # Iterate through training data loader\n",
    "        for i, data in enumerate(trainloader):\n",
    "            X, y = data\n",
    "            y.to('cuda')\n",
    "            X.to('cuda')\n",
    "            optimizer.zero_grad()\n",
    "            outputs = model.forward(X)\n",
    "            loss = criterion(outputs, y)\n",
    "            loss.backward()\n",
    "            optimizer.step()\n",
    "            running_loss+=loss.item()\n",
    "            print('\\rEpoch: {}\\tbatch: {}\\tLoss =  {:.3f}'.format(epoch, i, loss), end=\"\")\n",
    "        \n",
    "        print(\"\\n\")\n",
    "        # validation\n",
    "        model.eval()\n",
    "        with torch.no_grad():\n",
    "\n",
    "            val_loss = validation(validloader,model)\n",
    "            print(f\"Epoch {epoch+1}: train CE loss = {running_loss/len(trainloader)}\", f\"|| Valid: CE loss = {val_loss}\")\n",
    "            \n",
    "        # early-stopping\n",
    "        if val_loss < best_val_loss:\n",
    "            best_val_loss = val_loss\n",
    "            dict_model = model.state_dict()\n",
    "            pat = 0\n",
    "        else:\n",
    "            pat += 1\n",
    "            print(\"pat \", pat)\n",
    "            if pat == patience:\n",
    "                print(\"Early Stopping: Validation Loss did not decrease for\", patience, \"epochs.\")\n",
    "                break\n",
    "\n",
    "    torch.save(dict_model, 'mlp_classifier_no_SMOTE.pt')\n",
    "    \n",
    "    return model\n",
    "\n",
    "def validation(validloader, model):\n",
    "\n",
    "    running_loss = 0.0\n",
    "    \n",
    "    for _, data in enumerate(validloader,0):\n",
    "        X,y = data\n",
    "        # forward the input\n",
    "        output= model.forward(X)\n",
    "        # loss\n",
    "        loss = nn.BCELoss()(output, y)\n",
    "        running_loss+=loss.item()\n",
    "\n",
    "    return running_loss/len(validloader)\n",
    "\n"
   ]
  },
  {
   "cell_type": "code",
   "execution_count": null,
   "metadata": {},
   "outputs": [],
   "source": [
    "model = train_MLP(trainloader=trainloader, validloader=validloader, num_epochs=30, patience=10)"
   ]
  },
  {
   "attachments": {},
   "cell_type": "markdown",
   "metadata": {},
   "source": [
    "<h2>Testing results of SMTK + MLPC / MLPC <h2>"
   ]
  },
  {
   "cell_type": "code",
   "execution_count": 4,
   "metadata": {},
   "outputs": [],
   "source": [
    "def compute_metrics(dataloader, model_path):\n",
    "    \"\"\"\n",
    "    \n",
    "    This function returns the accuracy of the model on the data given in inputs\n",
    "    \"\"\"\n",
    "    model = BinaryMLPClassifier(len(INPUT_FEATURES))\n",
    "    model.load_state_dict(torch.load(model_path))\n",
    "    model.eval()\n",
    "    \n",
    "    list_labels = []\n",
    "    list_pred = []\n",
    "\n",
    "    loss = 0.0\n",
    "    for (inputs, labels) in dataloader:\n",
    "        outputs = model.forward(inputs)\n",
    "        loss += nn.BCELoss()(outputs, labels)\n",
    "        _,predicted = torch.max(outputs, 1)\n",
    "        list_labels.append(labels)\n",
    "        list_pred.append(predicted)\n",
    "\n",
    "    y_true = torch.cat(list_labels).numpy()\n",
    "    y_pred = torch.cat(list_pred).numpy()\n",
    "    \n",
    "    loss = loss / len(dataloader)\n",
    "    acc = accuracy_score(y_true, y_pred) * 100\n",
    "    macro_f1 = f1_score(y_true, y_pred, average='macro')\n",
    "    \n",
    "    return loss, acc, macro_f1"
   ]
  },
  {
   "cell_type": "code",
   "execution_count": 5,
   "metadata": {},
   "outputs": [],
   "source": [
    "testloader = dataloading(for_training=False, input_features=INPUT_FEATURES, output_feature=OUTPUT_FEATURE, sampling_strategy=0.3)"
   ]
  },
  {
   "cell_type": "code",
   "execution_count": 12,
   "metadata": {},
   "outputs": [],
   "source": [
    "SMTK_MLPC = '../model/mlp_classifier_SMOTE.pt'\n",
    "MLPC = '../model/mlp_classifier_trained.pt'\n",
    "loss_smtk_mlpc, acc_smtk_mlpc, macro_f1_smtk_mlpc = compute_metrics(testloader, SMTK_MLPC)\n",
    "loss_mlpc, acc_mlpc, macro_f1_mlpc = compute_metrics(testloader, MLPC)"
   ]
  },
  {
   "cell_type": "code",
   "execution_count": 13,
   "metadata": {},
   "outputs": [
    {
     "data": {
      "text/plain": [
       "(tensor(0.7018, grad_fn=<DivBackward0>), 99.61401355721146, 0.4990331679727538)"
      ]
     },
     "execution_count": 13,
     "metadata": {},
     "output_type": "execute_result"
    }
   ],
   "source": [
    "loss_smtk_mlpc, acc_smtk_mlpc, macro_f1_smtk_mlpc\n"
   ]
  },
  {
   "cell_type": "code",
   "execution_count": 14,
   "metadata": {},
   "outputs": [
    {
     "data": {
      "text/plain": [
       "(tensor(0.1657, grad_fn=<DivBackward0>), 99.61401355721146, 0.4990331679727538)"
      ]
     },
     "execution_count": 14,
     "metadata": {},
     "output_type": "execute_result"
    }
   ],
   "source": [
    "loss_mlpc, acc_mlpc, macro_f1_mlpc"
   ]
  },
  {
   "attachments": {},
   "cell_type": "markdown",
   "metadata": {},
   "source": [
    "<h1>Define AutoEncoder model + Train</h1>"
   ]
  },
  {
   "cell_type": "code",
   "execution_count": 12,
   "metadata": {},
   "outputs": [],
   "source": [
    "class Autoencoder(nn.Module):\n",
    "    def __init__(self, dim_input, dim_output):\n",
    "        super().__init__()\n",
    "        self.encoder = nn.Sequential(\n",
    "            nn.Linear(dim_input, 10),\n",
    "            # nn.BatchNorm1d(10),\n",
    "            # nn.LeakyReLU(),\n",
    "            nn.ReLU(),\n",
    "            nn.Linear(10, 8),\n",
    "            # nn.BatchNorm1d(8),\n",
    "            # nn.LeakyReLU()\n",
    "            nn.ReLU()\n",
    "        )\n",
    "        self.decoder = nn.Sequential(\n",
    "            nn.Linear(8, 10),\n",
    "            # nn.BatchNorm1d(10),\n",
    "            # nn.LeakyReLU(),\n",
    "            nn.ReLU(),\n",
    "            nn.Linear(10, dim_output),\n",
    "            nn.Sigmoid()\n",
    "        )\n",
    "\n",
    "    def forward(self, x):\n",
    "        x = self.encoder(x)\n",
    "        x = self.decoder(x)\n",
    "        return x\n",
    "    \n",
    "    def feature_extration(self, x):\n",
    "        return self.encoder(x)\n",
    "\n",
    "\n",
    "def train(num_epoch,train_loader, valid_loader, patience, lr):\n",
    "    \n",
    "    device = 'cuda' if torch.cuda.is_available() else 'cpu'\n",
    "    model = Autoencoder(len(INPUT_FEATURES), len(INPUT_FEATURES))\n",
    "    # Define optimizer\n",
    "    model.to(device)\n",
    "    optimizer = optim.Adam(model.parameters(), lr=lr, weight_decay=1e-5)\n",
    "    best_val_loss = np.inf\n",
    "\n",
    "    model.train()\n",
    "    # Train the model for the specified number of epochs\n",
    "    for epoch in range(num_epoch):\n",
    "        running_loss = 0.0\n",
    "        for i,data in enumerate(train_loader,0):\n",
    "            inputs,_ = data\n",
    "            inputs = inputs.to(device)\n",
    "            optimizer.zero_grad()\n",
    "            outputs = model.forward(inputs)\n",
    "            loss = nn.MSELoss()(outputs, inputs)\n",
    "            loss.backward()\n",
    "            optimizer.step()\n",
    "            running_loss += loss.item()\n",
    "            print('\\rEpoch: {}\\tbatch: {}\\tLoss =  {:.3f}'.format(epoch, i, loss), end=\"\")\n",
    "        \n",
    "        # validation\n",
    "        model.eval()\n",
    "        val_loss = 0.0\n",
    "        with torch.no_grad():\n",
    "\n",
    "            for data in valid_loader:\n",
    "                inputs,_ = data\n",
    "                inputs = inputs.to(device)\n",
    "                outputs = model.forward(inputs)\n",
    "                loss = nn.MSELoss()(outputs, inputs)\n",
    "                val_loss += loss.item()\n",
    "\n",
    "            val_loss *= (1/len(valid_loader))   \n",
    "            print(f\"Epoch {epoch+1}: train MSE loss = {running_loss/len(trainloader)}\", f\"|| Valid: MSE loss = {val_loss}\")\n",
    "            \n",
    "        # early-stopping\n",
    "        if val_loss < best_val_loss:\n",
    "            best_val_loss = val_loss\n",
    "            dict_model = model.state_dict()\n",
    "            pat = 0\n",
    "        else:\n",
    "            pat += 1\n",
    "            print(\"pat \", pat)\n",
    "            if pat == patience:\n",
    "                print(\"Early Stopping: Validation Loss did not decrease for\", patience, \"epochs.\")\n",
    "                break\n",
    "\n",
    "    torch.save(dict_model, 'AutoEncoder.pt')\n",
    "    \n",
    "    return model\n"
   ]
  },
  {
   "cell_type": "code",
   "execution_count": 13,
   "metadata": {},
   "outputs": [
    {
     "name": "stdout",
     "output_type": "stream",
     "text": [
      "Epoch: 0\tbatch: 18234\tLoss =  0.6193Epoch 1: train MSE loss = 0.7811439971417834 || Valid: MSE loss = 0.7248542141784985\n",
      "Epoch: 1\tbatch: 18234\tLoss =  0.5950Epoch 2: train MSE loss = 0.6641287059531592 || Valid: MSE loss = 0.695713406104317\n",
      "Epoch: 2\tbatch: 18234\tLoss =  0.5647Epoch 3: train MSE loss = 0.6387061586159695 || Valid: MSE loss = 0.6603172763145553\n",
      "Epoch: 3\tbatch: 18234\tLoss =  0.5492Epoch 4: train MSE loss = 0.6071388844908313 || Valid: MSE loss = 0.6458642280742813\n",
      "Epoch: 4\tbatch: 18234\tLoss =  0.5471Epoch 5: train MSE loss = 0.6018924112740954 || Valid: MSE loss = 0.6443058320555007\n",
      "Epoch: 5\tbatch: 18234\tLoss =  0.5460Epoch 6: train MSE loss = 0.6010374129619342 || Valid: MSE loss = 0.643734077749784\n",
      "Epoch: 6\tbatch: 18234\tLoss =  0.5460Epoch 7: train MSE loss = 0.6005818438637835 || Valid: MSE loss = 0.643412300354751\n",
      "Epoch: 7\tbatch: 3036\tLoss =  0.560"
     ]
    },
    {
     "ename": "KeyboardInterrupt",
     "evalue": "",
     "output_type": "error",
     "traceback": [
      "\u001b[1;31m---------------------------------------------------------------------------\u001b[0m",
      "\u001b[1;31mKeyboardInterrupt\u001b[0m                         Traceback (most recent call last)",
      "\u001b[1;32mc:\\Users\\mariu\\OneDrive\\Bureau\\UCL\\T2\\Advanced Machine Learning in Finance\\AdvancedMLFinance\\Fraud detection\\src\\exploratory.ipynb Cell 16\u001b[0m in \u001b[0;36m1\n\u001b[1;32m----> <a href='vscode-notebook-cell:/c%3A/Users/mariu/OneDrive/Bureau/UCL/T2/Advanced%20Machine%20Learning%20in%20Finance/AdvancedMLFinance/Fraud%20detection/src/exploratory.ipynb#X21sZmlsZQ%3D%3D?line=0'>1</a>\u001b[0m model \u001b[39m=\u001b[39m train(num_epoch\u001b[39m=\u001b[39;49m\u001b[39m100\u001b[39;49m, train_loader\u001b[39m=\u001b[39;49mtrainloader, valid_loader\u001b[39m=\u001b[39;49mvalidloader, patience\u001b[39m=\u001b[39;49m\u001b[39m10\u001b[39;49m, lr\u001b[39m=\u001b[39;49m\u001b[39m2e-4\u001b[39;49m)\n",
      "\u001b[1;32mc:\\Users\\mariu\\OneDrive\\Bureau\\UCL\\T2\\Advanced Machine Learning in Finance\\AdvancedMLFinance\\Fraud detection\\src\\exploratory.ipynb Cell 16\u001b[0m in \u001b[0;36m5\n\u001b[0;32m     <a href='vscode-notebook-cell:/c%3A/Users/mariu/OneDrive/Bureau/UCL/T2/Advanced%20Machine%20Learning%20in%20Finance/AdvancedMLFinance/Fraud%20detection/src/exploratory.ipynb#X21sZmlsZQ%3D%3D?line=48'>49</a>\u001b[0m outputs \u001b[39m=\u001b[39m model\u001b[39m.\u001b[39mforward(inputs)\n\u001b[0;32m     <a href='vscode-notebook-cell:/c%3A/Users/mariu/OneDrive/Bureau/UCL/T2/Advanced%20Machine%20Learning%20in%20Finance/AdvancedMLFinance/Fraud%20detection/src/exploratory.ipynb#X21sZmlsZQ%3D%3D?line=49'>50</a>\u001b[0m loss \u001b[39m=\u001b[39m nn\u001b[39m.\u001b[39mMSELoss()(outputs, inputs)\n\u001b[1;32m---> <a href='vscode-notebook-cell:/c%3A/Users/mariu/OneDrive/Bureau/UCL/T2/Advanced%20Machine%20Learning%20in%20Finance/AdvancedMLFinance/Fraud%20detection/src/exploratory.ipynb#X21sZmlsZQ%3D%3D?line=50'>51</a>\u001b[0m loss\u001b[39m.\u001b[39;49mbackward()\n\u001b[0;32m     <a href='vscode-notebook-cell:/c%3A/Users/mariu/OneDrive/Bureau/UCL/T2/Advanced%20Machine%20Learning%20in%20Finance/AdvancedMLFinance/Fraud%20detection/src/exploratory.ipynb#X21sZmlsZQ%3D%3D?line=51'>52</a>\u001b[0m optimizer\u001b[39m.\u001b[39mstep()\n\u001b[0;32m     <a href='vscode-notebook-cell:/c%3A/Users/mariu/OneDrive/Bureau/UCL/T2/Advanced%20Machine%20Learning%20in%20Finance/AdvancedMLFinance/Fraud%20detection/src/exploratory.ipynb#X21sZmlsZQ%3D%3D?line=52'>53</a>\u001b[0m running_loss \u001b[39m+\u001b[39m\u001b[39m=\u001b[39m loss\u001b[39m.\u001b[39mitem()\n",
      "File \u001b[1;32mc:\\Users\\mariu\\anaconda3\\envs\\comp0197-pt\\lib\\site-packages\\torch\\_tensor.py:488\u001b[0m, in \u001b[0;36mTensor.backward\u001b[1;34m(self, gradient, retain_graph, create_graph, inputs)\u001b[0m\n\u001b[0;32m    478\u001b[0m \u001b[39mif\u001b[39;00m has_torch_function_unary(\u001b[39mself\u001b[39m):\n\u001b[0;32m    479\u001b[0m     \u001b[39mreturn\u001b[39;00m handle_torch_function(\n\u001b[0;32m    480\u001b[0m         Tensor\u001b[39m.\u001b[39mbackward,\n\u001b[0;32m    481\u001b[0m         (\u001b[39mself\u001b[39m,),\n\u001b[1;32m   (...)\u001b[0m\n\u001b[0;32m    486\u001b[0m         inputs\u001b[39m=\u001b[39minputs,\n\u001b[0;32m    487\u001b[0m     )\n\u001b[1;32m--> 488\u001b[0m torch\u001b[39m.\u001b[39;49mautograd\u001b[39m.\u001b[39;49mbackward(\n\u001b[0;32m    489\u001b[0m     \u001b[39mself\u001b[39;49m, gradient, retain_graph, create_graph, inputs\u001b[39m=\u001b[39;49minputs\n\u001b[0;32m    490\u001b[0m )\n",
      "File \u001b[1;32mc:\\Users\\mariu\\anaconda3\\envs\\comp0197-pt\\lib\\site-packages\\torch\\autograd\\__init__.py:197\u001b[0m, in \u001b[0;36mbackward\u001b[1;34m(tensors, grad_tensors, retain_graph, create_graph, grad_variables, inputs)\u001b[0m\n\u001b[0;32m    192\u001b[0m     retain_graph \u001b[39m=\u001b[39m create_graph\n\u001b[0;32m    194\u001b[0m \u001b[39m# The reason we repeat same the comment below is that\u001b[39;00m\n\u001b[0;32m    195\u001b[0m \u001b[39m# some Python versions print out the first line of a multi-line function\u001b[39;00m\n\u001b[0;32m    196\u001b[0m \u001b[39m# calls in the traceback and some print out the last line\u001b[39;00m\n\u001b[1;32m--> 197\u001b[0m Variable\u001b[39m.\u001b[39;49m_execution_engine\u001b[39m.\u001b[39;49mrun_backward(  \u001b[39m# Calls into the C++ engine to run the backward pass\u001b[39;49;00m\n\u001b[0;32m    198\u001b[0m     tensors, grad_tensors_, retain_graph, create_graph, inputs,\n\u001b[0;32m    199\u001b[0m     allow_unreachable\u001b[39m=\u001b[39;49m\u001b[39mTrue\u001b[39;49;00m, accumulate_grad\u001b[39m=\u001b[39;49m\u001b[39mTrue\u001b[39;49;00m)\n",
      "\u001b[1;31mKeyboardInterrupt\u001b[0m: "
     ]
    }
   ],
   "source": [
    "model = train(num_epoch=100, train_loader=trainloader, valid_loader=validloader, patience=10, lr=2e-4)"
   ]
  },
  {
   "cell_type": "code",
   "execution_count": 7,
   "metadata": {},
   "outputs": [],
   "source": [
    "testloader = dataloading(for_training=False, input_features=INPUT_FEATURES, output_feature=OUTPUT_FEATURE, sampling_strategy=0.3)"
   ]
  },
  {
   "attachments": {},
   "cell_type": "markdown",
   "metadata": {},
   "source": [
    "<h1> Feature extraction + Training MLPC on reduced data</h1>"
   ]
  },
  {
   "cell_type": "code",
   "execution_count": 15,
   "metadata": {},
   "outputs": [],
   "source": [
    "def feature_extraction_AE(dataloader, model_path):\n",
    "\n",
    "    # load pre trained AE model\n",
    "    model = Autoencoder(len(INPUT_FEATURES), len(INPUT_FEATURES))\n",
    "    model.load_state_dict(torch.load(model_path))\n",
    "    model.eval()\n",
    "\n",
    "    list_outputs = []\n",
    "    list_labels = []\n",
    "\n",
    "    for (inputs, labels) in dataloader:\n",
    "        \n",
    "        outputs = model.feature_extration(inputs)\n",
    "        list_labels.append(labels)\n",
    "        list_outputs.append(outputs)\n",
    "    \n",
    "    y = torch.cat(list_labels)\n",
    "    features_extracted = torch.cat(list_outputs)\n",
    "\n",
    "    return features_extracted, y\n",
    "\n",
    "class BinaryMLPClassifierWithFeaturedExtracted(nn.Module):\n",
    "    def __init__(self, n_inputs):\n",
    "        super(BinaryMLPClassifierWithFeaturedExtracted, self).__init__()\n",
    "        # First hidden layer\n",
    "        self.hidden1 = nn.Linear(n_inputs, 6)\n",
    "        self.act1 = nn.ReLU()\n",
    "        # Second hidden layer\n",
    "        self.hidden2 = nn.Linear(6, 3)\n",
    "        self.act2 = nn.ReLU()\n",
    "        # Third hidden layer\n",
    "        self.hidden3 = nn.Linear(3,1)\n",
    "        self.act3 = nn.Sigmoid()\n",
    "        \n",
    "    def forward(self, X):\n",
    "        #Input to the first hidden layer\n",
    "        X = self.hidden1(X)\n",
    "        X = self.act1(X)\n",
    "        # Second hidden layer\n",
    "        X = self.hidden2(X)\n",
    "        X = self.act2(X)\n",
    "        # Third hidden layer\n",
    "        X = self.hidden3(X)\n",
    "        X = self.act3(X)\n",
    "        return X\n",
    "\n",
    "def get_reduced_dataloader(is_AE, dataloader, path_model):\n",
    "    if is_AE==True:\n",
    "        # features extracted thanks to AE\n",
    "        features_extracted, y = feature_extraction_AE(dataloader, path_model)\n",
    "\n",
    "        X_train, X_val, y_train, y_val = train_test_split(features_extracted,\n",
    "                                                          y,\n",
    "                                                          test_size=0.1,\n",
    "                                                          random_state=42)\n",
    "        \n",
    "        # change it to Dataloader objects\n",
    "        train_set = MapStyleFraudDataset(X_train,y_train )\n",
    "        val_set = MapStyleFraudDataset(X_val,y_val)\n",
    "\n",
    "        trainloader = DataLoader(train_set, batch_size=32, num_workers=0)\n",
    "        validloader = DataLoader(val_set, batch_size=32, num_workers=0)\n",
    "        \n",
    "        return trainloader, validloader\n",
    "    else:\n",
    "        # feature extracted thanks to PCA\n",
    "        print('Not yet implemented ! ')\n",
    "        return None\n",
    "        \n",
    "def train_AE_MLPC(trainloader, is_augmented=False):\n",
    "    \n",
    "    # Using the pretrained AE on the right data\n",
    "    if is_augmented == True:\n",
    "        model_path = '../model/AutoEncoder_SMOTE.pt'\n",
    "    else:\n",
    "        model_path = '../model/AutoEncoder_no_SMOTE.pt'\n",
    "\n",
    "    trainloader, validloader = get_reduced_dataloader(True, trainloader, model_path)\n",
    "\n",
    "\n"
   ]
  },
  {
   "cell_type": "code",
   "execution_count": 20,
   "metadata": {},
   "outputs": [],
   "source": [
    "AE = '../model/AutoEncoder_no_SMOTE.pt'\n",
    "SMTK_AE = '../model/AutoEncoder_SMOTE.pt'\n",
    "\n",
    "feature_extracted, y = feature_extraction_AE(trainloader, AE)"
   ]
  },
  {
   "cell_type": "code",
   "execution_count": 27,
   "metadata": {},
   "outputs": [
    {
     "data": {
      "text/plain": [
       "<torch.utils.data.dataloader.DataLoader at 0x255f97aa4d0>"
      ]
     },
     "execution_count": 27,
     "metadata": {},
     "output_type": "execute_result"
    }
   ],
   "source": [
    "testloader"
   ]
  },
  {
   "attachments": {},
   "cell_type": "markdown",
   "metadata": {},
   "source": [
    "<h1>Evaluation + Results of SMTK + AE / AE / SMTK + AE + MLPC / AE + MLPC</h1>"
   ]
  },
  {
   "cell_type": "code",
   "execution_count": 6,
   "metadata": {},
   "outputs": [],
   "source": [
    "\n",
    "# AutoEncoder are basically regression so : \n",
    "# calculate R2 = 1 - SSE/SST where SST = som(xi - mean(xi))\n",
    "\n",
    "def compute_metrics_AE(dataloader, model_path):\n",
    "    \"\"\"\n",
    "    \n",
    "    This function returns the accuracy of the model on the data given in inputs\n",
    "    \"\"\"\n",
    "    model = Autoencoder(len(INPUT_FEATURES), len(INPUT_FEATURES))\n",
    "    model.load_state_dict(torch.load(model_path))\n",
    "    model.eval()\n",
    "    \n",
    "    list_inputs = []\n",
    "    list_outputs = []\n",
    "\n",
    "    loss = 0.0\n",
    "    for (inputs, labels) in dataloader:\n",
    "        outputs = model.forward(inputs)\n",
    "        loss += nn.MSELoss()(outputs, inputs)\n",
    "        list_inputs.append(inputs)\n",
    "        list_outputs.append(outputs)\n",
    "\n",
    "    inputs_fin = torch.cat(list_inputs)\n",
    "    outputs_fin = torch.cat(list_outputs)\n",
    "    \n",
    "    metric = R2Score()\n",
    "    metric.update(inputs_fin, outputs_fin)\n",
    "    r2 = metric.compute()\n",
    "\n",
    "    return r2"
   ]
  },
  {
   "cell_type": "code",
   "execution_count": 8,
   "metadata": {},
   "outputs": [],
   "source": [
    "AE = 'AutoEncoder.pt'\n",
    "SMT_AE = '../model/AutoEncoder_SMOTE.pt'\n",
    "\n",
    "r2 = compute_metrics_AE(testloader, AE)"
   ]
  },
  {
   "cell_type": "code",
   "execution_count": 9,
   "metadata": {},
   "outputs": [
    {
     "data": {
      "text/plain": [
       "tensor(-5.2656)"
      ]
     },
     "execution_count": 9,
     "metadata": {},
     "output_type": "execute_result"
    }
   ],
   "source": [
    "r2"
   ]
  }
 ],
 "metadata": {
  "kernelspec": {
   "display_name": "comp0197-pt",
   "language": "python",
   "name": "python3"
  },
  "language_info": {
   "codemirror_mode": {
    "name": "ipython",
    "version": 3
   },
   "file_extension": ".py",
   "mimetype": "text/x-python",
   "name": "python",
   "nbconvert_exporter": "python",
   "pygments_lexer": "ipython3",
   "version": "3.10.8"
  },
  "orig_nbformat": 4,
  "vscode": {
   "interpreter": {
    "hash": "f32df3aac5e403edad364ecde1dbcdc30e713e8509a6eab8e64607c28b9ed03b"
   }
  }
 },
 "nbformat": 4,
 "nbformat_minor": 2
}
